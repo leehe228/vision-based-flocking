{
 "cells": [
  {
   "cell_type": "code",
   "execution_count": 6,
   "metadata": {},
   "outputs": [],
   "source": [
    "import numpy as np\n",
    "import cv2 as cv\n",
    "import matplotlib.pyplot as plt\n",
    "import time"
   ]
  },
  {
   "cell_type": "markdown",
   "metadata": {},
   "source": [
    "### Define Frames"
   ]
  },
  {
   "cell_type": "code",
   "execution_count": 2,
   "metadata": {},
   "outputs": [],
   "source": [
    "frame = np.zeros((720, 1280), dtype=np.uint8)"
   ]
  },
  {
   "cell_type": "code",
   "execution_count": 3,
   "metadata": {},
   "outputs": [],
   "source": [
    "class Agent:\n",
    "    def __init__(self, id: int, initial_pos: tuple):\n",
    "        self.id = id\n",
    "        self.pos = initial_pos\n",
    "        \n",
    "    def move(self, new_pos: tuple):\n",
    "        self.pos = new_pos"
   ]
  },
  {
   "cell_type": "code",
   "execution_count": 4,
   "metadata": {},
   "outputs": [],
   "source": [
    "class MotherShip(Agent):\n",
    "    def __init__(self, id: int, initial_pos: tuple):\n",
    "        super().__init__(id, initial_pos)\n",
    "        \n",
    "    def move(self):\n",
    "        # move randomly\n",
    "        new_pos_x = np.random.random(-3, 4)\n",
    "        new_pos_y = np.random.random(-3, 4)\n",
    "        \n",
    "        # boundary check\n",
    "        if self.pos[0] + new_pos_x > 720:\n",
    "            new_pos_x = -3\n",
    "            \n",
    "        elif self.pos[0] + new_pos_x < 0:\n",
    "            new_pos_x = 3\n",
    "            \n",
    "        if self.pos[1] + new_pos_y > 1280:\n",
    "            new_pos_y = -3\n",
    "            \n",
    "        elif self.pos[1] + new_pos_y < 0:\n",
    "            new_pos_y = 3\n",
    "        \n",
    "        # update position\n",
    "        self.pos = (self.pos[0] + new_pos_x, self.pos[1] + new_pos_y)"
   ]
  },
  {
   "cell_type": "code",
   "execution_count": 5,
   "metadata": {},
   "outputs": [],
   "source": [
    "def update_frame(agents):\n",
    "    frame = np.zeros((720, 1280), dtype=np.uint8)\n",
    "    \n",
    "    for agent in agents:\n",
    "        frame[agent.pos[0], agent.pos[1]] = 255\n",
    "        frame[agent.pos[0] + 1, agent.pos[1]] = 255\n",
    "        frame[agent.pos[0], agent.pos[1] + 1] = 255\n",
    "        frame[agent.pos[0] + 1, agent.pos[1] + 1] = 255\n",
    "        \n",
    "    return frame.copy()"
   ]
  },
  {
   "cell_type": "code",
   "execution_count": null,
   "metadata": {},
   "outputs": [],
   "source": [
    "# plot the frame with agents every 0.1s\n",
    "\n",
    "# create agents\n",
    "agents = [MotherShip(0, (300, 300))]\n",
    "\n",
    "while True:\n",
    "    frame = update_frame(agents)\n",
    "    cv.imshow('frame', frame)\n",
    "    time.sleep(0.1)\n",
    "    if cv.waitKey(1) & 0xFF == ord('q'):\n",
    "        break"
   ]
  },
  {
   "cell_type": "code",
   "execution_count": null,
   "metadata": {},
   "outputs": [],
   "source": []
  }
 ],
 "metadata": {
  "kernelspec": {
   "display_name": "dvp",
   "language": "python",
   "name": "python3"
  },
  "language_info": {
   "codemirror_mode": {
    "name": "ipython",
    "version": 3
   },
   "file_extension": ".py",
   "mimetype": "text/x-python",
   "name": "python",
   "nbconvert_exporter": "python",
   "pygments_lexer": "ipython3",
   "version": "3.10.13"
  }
 },
 "nbformat": 4,
 "nbformat_minor": 2
}
