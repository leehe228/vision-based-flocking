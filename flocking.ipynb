{
 "cells": [
  {
   "cell_type": "code",
   "execution_count": 1,
   "metadata": {},
   "outputs": [],
   "source": [
    "import numpy as np"
   ]
  },
  {
   "cell_type": "code",
   "execution_count": 2,
   "metadata": {},
   "outputs": [],
   "source": [
    "def calculate_new_motion_vector(motion_vectors, agent_position, agent_motion, params):\n",
    "    # Initialize vectors\n",
    "    separation_vector = np.zeros(2)\n",
    "    alignment_vector = np.zeros(2)\n",
    "    cohesion_vector = np.zeros(2)\n",
    "    avoidance_vector = np.zeros(2)\n",
    "    randomness_vector = np.random.uniform(-1, 1, 2)\n",
    "    \n",
    "    # Parameters for each behavior\n",
    "    separation_distance = params.get('separation_distance', 1.0)\n",
    "    avoidance_distance = params.get('avoidance_distance', 1.0)\n",
    "    separation_weight = params.get('separation_weight', 1.0)\n",
    "    alignment_weight = params.get('alignment_weight', 1.0)\n",
    "    cohesion_weight = params.get('cohesion_weight', 1.0)\n",
    "    avoidance_weight = params.get('avoidance_weight', 1.0)\n",
    "    randomness_weight = params.get('randomness_weight', 1.0)\n",
    "    \n",
    "    num_neighbors = len(motion_vectors)\n",
    "    \n",
    "    if num_neighbors == 0:\n",
    "        return agent_motion\n",
    "    \n",
    "    for motion_vector in motion_vectors:\n",
    "        distance = np.linalg.norm(motion_vector - agent_position)\n",
    "        \n",
    "        if distance < separation_distance:\n",
    "            separation_vector -= (motion_vector - agent_position)\n",
    "        \n",
    "        if distance < avoidance_distance:\n",
    "            avoidance_vector -= (motion_vector - agent_position)\n",
    "        \n",
    "        alignment_vector += motion_vector\n",
    "        cohesion_vector += motion_vector\n",
    "    \n",
    "    # Average the alignment and cohesion vectors\n",
    "    alignment_vector /= num_neighbors\n",
    "    cohesion_vector /= num_neighbors\n",
    "    cohesion_vector = cohesion_vector - agent_position\n",
    "    \n",
    "    # Normalize the randomness vector\n",
    "    randomness_vector = randomness_vector / np.linalg.norm(randomness_vector)\n",
    "    \n",
    "    # Calculate the new motion vector\n",
    "    new_motion_vector = (\n",
    "        separation_weight * separation_vector +\n",
    "        alignment_weight * alignment_vector +\n",
    "        cohesion_weight * cohesion_vector +\n",
    "        avoidance_weight * avoidance_vector +\n",
    "        randomness_weight * randomness_vector\n",
    "    )\n",
    "    \n",
    "    # Normalize the new motion vector to maintain consistent speed\n",
    "    new_motion_vector = new_motion_vector / np.linalg.norm(new_motion_vector)\n",
    "    \n",
    "    return new_motion_vector"
   ]
  },
  {
   "cell_type": "code",
   "execution_count": 6,
   "metadata": {},
   "outputs": [],
   "source": [
    "motion_vectors = [(0, 0), (-3, -3), (4, -4), (0, 4), (-8, 8)]\n",
    "agent_position = np.array([0, 0])\n",
    "agent_motion = np.array([1, 0])  # Current motion vector of the agent"
   ]
  },
  {
   "cell_type": "code",
   "execution_count": 7,
   "metadata": {},
   "outputs": [],
   "source": [
    "params = {\n",
    "    'separation_distance': 5.0,\n",
    "    'avoidance_distance': 3.0,\n",
    "    'separation_weight': 1.5,\n",
    "    'alignment_weight': 1.0,\n",
    "    'cohesion_weight': 1.0,\n",
    "    'avoidance_weight': 2.0,\n",
    "    'randomness_weight': 0.5\n",
    "}"
   ]
  },
  {
   "cell_type": "code",
   "execution_count": 8,
   "metadata": {},
   "outputs": [
    {
     "name": "stdout",
     "output_type": "stream",
     "text": [
      "New motion vector: [0.92630399 0.37677701]\n"
     ]
    }
   ],
   "source": [
    "new_motion_vector = calculate_new_motion_vector(motion_vectors, agent_position, agent_motion, params)\n",
    "print(\"New motion vector:\", new_motion_vector)"
   ]
  },
  {
   "cell_type": "code",
   "execution_count": null,
   "metadata": {},
   "outputs": [],
   "source": []
  }
 ],
 "metadata": {
  "kernelspec": {
   "display_name": "dvp",
   "language": "python",
   "name": "python3"
  },
  "language_info": {
   "codemirror_mode": {
    "name": "ipython",
    "version": 3
   },
   "file_extension": ".py",
   "mimetype": "text/x-python",
   "name": "python",
   "nbconvert_exporter": "python",
   "pygments_lexer": "ipython3",
   "version": "3.10.13"
  }
 },
 "nbformat": 4,
 "nbformat_minor": 2
}
